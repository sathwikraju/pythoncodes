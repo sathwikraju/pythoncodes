{
  "nbformat": 4,
  "nbformat_minor": 0,
  "metadata": {
    "colab": {
      "provenance": [],
      "authorship_tag": "ABX9TyPxT3jzc7wifgwLvnICSeHy",
      "include_colab_link": true
    },
    "kernelspec": {
      "name": "python3",
      "display_name": "Python 3"
    },
    "language_info": {
      "name": "python"
    }
  },
  "cells": [
    {
      "cell_type": "markdown",
      "metadata": {
        "id": "view-in-github",
        "colab_type": "text"
      },
      "source": [
        "<a href=\"https://colab.research.google.com/github/sathwikraju/pythoncodes/blob/main/Untitled0.ipynb\" target=\"_parent\"><img src=\"https://colab.research.google.com/assets/colab-badge.svg\" alt=\"Open In Colab\"/></a>"
      ]
    },
    {
      "cell_type": "code",
      "execution_count": 1,
      "metadata": {
        "colab": {
          "base_uri": "https://localhost:8080/"
        },
        "id": "lW4UAS7DUF2d",
        "outputId": "a7a3177f-4c5f-4941-beea-6e01ba9b19bc"
      },
      "outputs": [
        {
          "output_type": "stream",
          "name": "stdout",
          "text": [
            "The sum of your numbers is 90\n"
          ]
        }
      ],
      "source": [
        "def add_three_numbers(a, b, c):\n",
        "  print(\"The sum of your numbers is \" + str(a + b + c))\n",
        "\n",
        "add_three_numbers(20, 30, 40)"
      ]
    }
  ]
}